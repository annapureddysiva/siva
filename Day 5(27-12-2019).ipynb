{
 "cells": [
  {
   "cell_type": "code",
   "execution_count": 1,
   "metadata": {},
   "outputs": [
    {
     "data": {
      "text/plain": [
       "'C:\\\\Users\\\\SIVA REDDY\\\\Downloads'"
      ]
     },
     "execution_count": 1,
     "metadata": {},
     "output_type": "execute_result"
    }
   ],
   "source": [
    "pwd"
   ]
  },
  {
   "cell_type": "code",
   "execution_count": 101,
   "metadata": {},
   "outputs": [
    {
     "name": "stdout",
     "output_type": "stream",
     "text": [
      "334ergdf\n",
      "count is: 3 sum of digits is: 10\n"
     ]
    }
   ],
   "source": [
    "#count no. of digits in the given string\n",
    "#input\"python123\n",
    "#output:9\n",
    "s = input()\n",
    "i=0\n",
    "count = 0\n",
    "sum=0\n",
    "while i<len(s):\n",
    "    if s[i].isdigit():\n",
    "        count += 1\n",
    "        sum += int(s[i])\n",
    "    i += 1\n",
    "print(\"count is:\",count,\"sum of digits is:\",sum)\n"
   ]
  },
  {
   "cell_type": "code",
   "execution_count": 13,
   "metadata": {},
   "outputs": [
    {
     "name": "stdout",
     "output_type": "stream",
     "text": [
      "enter a number12\n",
      "1 2 3 4 5 6 7 8 9 10 11 12 "
     ]
    }
   ],
   "source": [
    "#for loop\n",
    "#1.using range()\n",
    "#2.using iterable object\n",
    "n = int(input(\"enter a number\"))\n",
    "for i in range(1,n+1):\n",
    "    print(i,end=\" \")"
   ]
  },
  {
   "cell_type": "code",
   "execution_count": 14,
   "metadata": {},
   "outputs": [
    {
     "name": "stdout",
     "output_type": "stream",
     "text": [
      "python\n",
      "p y t h o n "
     ]
    }
   ],
   "source": [
    "s = input()\n",
    "i = 0\n",
    "while i<len(s):\n",
    "    print(s[i],end=\" \")\n",
    "    i+=1\n",
    "\n"
   ]
  },
  {
   "cell_type": "code",
   "execution_count": null,
   "metadata": {},
   "outputs": [],
   "source": [
    "##collection type data types\n",
    "list:\n",
    "1"
   ]
  },
  {
   "cell_type": "code",
   "execution_count": 18,
   "metadata": {},
   "outputs": [
    {
     "name": "stdout",
     "output_type": "stream",
     "text": [
      "[1, 2, 3]\n",
      "[456, 56]\n",
      "gnirts\n",
      "3\n"
     ]
    }
   ],
   "source": [
    "list1=[23,24,456,56,67,\"string\",True,[1,2,3]]\n",
    "print(list1[-1])\n",
    "print(list1[2:4])\n",
    "print(list1[-3][::-1])\n",
    "print(list1[-1][-1])"
   ]
  },
  {
   "cell_type": "markdown",
   "metadata": {},
   "source": [
    "#manipulating a list\n",
    "#1.adding elements\n",
    "list1=[34,45,56,67]\n",
    "print(\"before adding elements:\",list1)\n",
    "list1.append(100)\n",
    "list1.append(200)\n",
    "list1.append(300)\n",
    "print(\"after adding elements:\",list1)"
   ]
  },
  {
   "cell_type": "code",
   "execution_count": 105,
   "metadata": {},
   "outputs": [
    {
     "data": {
      "text/plain": [
       "[34, 400, 45, 56, 67, 100, 200, 300]"
      ]
     },
     "execution_count": 105,
     "metadata": {},
     "output_type": "execute_result"
    }
   ],
   "source": [
    "list1.insert(1,400)\n",
    "list1"
   ]
  },
  {
   "cell_type": "code",
   "execution_count": 106,
   "metadata": {},
   "outputs": [
    {
     "name": "stdout",
     "output_type": "stream",
     "text": [
      "[34, 400, 56, 67, 100, 200]\n"
     ]
    }
   ],
   "source": [
    "#removing elements from the list\n",
    "list1.pop(-1)\n",
    "list1.remove(45)\n",
    "print(list1)\n"
   ]
  },
  {
   "cell_type": "code",
   "execution_count": null,
   "metadata": {},
   "outputs": [],
   "source": [
    "# replace an element\n",
    "list1[1]=1000\n",
    "list1"
   ]
  },
  {
   "cell_type": "code",
   "execution_count": 103,
   "metadata": {},
   "outputs": [
    {
     "name": "stdout",
     "output_type": "stream",
     "text": [
      "[34, 1000]\n"
     ]
    }
   ],
   "source": [
    "#sorting a list\n",
    "list1 = [34,1000]\n",
    "list1.sort()\n",
    "print(list1)"
   ]
  },
  {
   "cell_type": "code",
   "execution_count": 108,
   "metadata": {},
   "outputs": [
    {
     "data": {
      "text/plain": [
       "[1000, 100, 76, 67, 56, 34]"
      ]
     },
     "execution_count": 108,
     "metadata": {},
     "output_type": "execute_result"
    }
   ],
   "source": [
    "#reversing a list\n",
    "list1=[34,56,67,76,100,1000]\n",
    "list1.reverse()\n",
    "list1"
   ]
  },
  {
   "cell_type": "code",
   "execution_count": 109,
   "metadata": {},
   "outputs": [
    {
     "data": {
      "text/plain": [
       "1"
      ]
     },
     "execution_count": 109,
     "metadata": {},
     "output_type": "execute_result"
    }
   ],
   "source": [
    "list1.count(100)"
   ]
  },
  {
   "cell_type": "code",
   "execution_count": 110,
   "metadata": {},
   "outputs": [
    {
     "name": "stdout",
     "output_type": "stream",
     "text": [
      "[1000, 100, 76, 67, 56, 34, 'python']   [1000, 100, 76, 67, 56, 34, 'python']\n"
     ]
    }
   ],
   "source": [
    "list1.append(\"python\")\n",
    "list2=list1\n",
    "print(list1,\" \",list2)"
   ]
  },
  {
   "cell_type": "code",
   "execution_count": 116,
   "metadata": {},
   "outputs": [
    {
     "data": {
      "text/plain": [
       "[1000, 100, 76, 67, 56, 34, 'python']"
      ]
     },
     "execution_count": 116,
     "metadata": {},
     "output_type": "execute_result"
    }
   ],
   "source": [
    "list3=list1.copy()\n",
    "list3"
   ]
  },
  {
   "cell_type": "code",
   "execution_count": 119,
   "metadata": {
    "scrolled": true
   },
   "outputs": [
    {
     "name": "stdout",
     "output_type": "stream",
     "text": [
      "[1, 2, 3]\n"
     ]
    }
   ],
   "source": [
    "l1=[1,2,3]\n",
    "l2=l1\n",
    "print(l2)"
   ]
  },
  {
   "cell_type": "code",
   "execution_count": 120,
   "metadata": {},
   "outputs": [
    {
     "name": "stdout",
     "output_type": "stream",
     "text": [
      "[1, 2, 3]\n"
     ]
    }
   ],
   "source": [
    "l1=[1,2,3]\n",
    "l3=l1\n",
    "print(l3)"
   ]
  },
  {
   "cell_type": "code",
   "execution_count": 121,
   "metadata": {},
   "outputs": [
    {
     "name": "stdout",
     "output_type": "stream",
     "text": [
      "[1, 2, 3] [1, 2, 3] [1, 2, 3]\n",
      "[1, 2, 3, 100] [1, 2, 3] [1, 2, 3, 100]\n"
     ]
    }
   ],
   "source": [
    "print(l1,l2,l3)\n",
    "l1.append(100)\n",
    "print(l1,l2,l3)"
   ]
  },
  {
   "cell_type": "markdown",
   "metadata": {},
   "source": [
    "#squares of elements of previous list\n",
    "#input:[2,4,5,7,8]\n",
    "#output:[4,16,25,49,64]\n",
    "l1=[2,4,5,7,8]\n",
    "l2=[]\n",
    "l3=[]\n",
    "for i in range(0,len(l1)):\n",
    "    l2.append(l1[i]**2)\n",
    "print(l2)    \n"
   ]
  },
  {
   "cell_type": "code",
   "execution_count": 127,
   "metadata": {},
   "outputs": [
    {
     "name": "stdout",
     "output_type": "stream",
     "text": [
      "[1, 1]\n"
     ]
    }
   ],
   "source": [
    "l4=[]\n",
    "for i in l1:\n",
    "    if i%2==0:\n",
    "        l4.append(1)\n",
    "print(l4)"
   ]
  },
  {
   "cell_type": "markdown",
   "metadata": {},
   "source": [
    "#create a list and accept values of the list at runtime\n",
    "#and print sum of all the elements of the list\n",
    "list1=[]\n",
    "n=int(input())\n",
    "for i in range(n):\n",
    "    list1.append(int(input()))\n",
    "a=sum(list1)\n",
    "print(a)"
   ]
  },
  {
   "cell_type": "code",
   "execution_count": 130,
   "metadata": {},
   "outputs": [
    {
     "data": {
      "text/plain": [
       "10"
      ]
     },
     "execution_count": 130,
     "metadata": {},
     "output_type": "execute_result"
    }
   ],
   "source": [
    "sum"
   ]
  },
  {
   "cell_type": "markdown",
   "metadata": {},
   "source": []
  },
  {
   "cell_type": "code",
   "execution_count": 131,
   "metadata": {},
   "outputs": [
    {
     "name": "stdout",
     "output_type": "stream",
     "text": [
      "(23, 34, 45, 56, 67)\n",
      "<class 'tuple'>\n"
     ]
    }
   ],
   "source": [
    "x=23,34,45,56,67\n",
    "print(x)\n",
    "print(type(x))"
   ]
  },
  {
   "cell_type": "code",
   "execution_count": 132,
   "metadata": {},
   "outputs": [
    {
     "name": "stdout",
     "output_type": "stream",
     "text": [
      "23 34 5\n"
     ]
    }
   ],
   "source": [
    "tup1=(23,34,5)\n",
    "x,y,z=tup1\n",
    "print(x,y,z)"
   ]
  },
  {
   "cell_type": "markdown",
   "metadata": {},
   "source": [
    "### Dictionary\n",
    "### syntax:(key1:value1,key2,value2.....)\n",
    "### key\n",
    "1. key should for unique\n",
    "2. key should be imutable-->int,float,string,tuple"
   ]
  },
  {
   "cell_type": "code",
   "execution_count": 135,
   "metadata": {},
   "outputs": [
    {
     "data": {
      "text/plain": [
       "'python'"
      ]
     },
     "execution_count": 135,
     "metadata": {},
     "output_type": "execute_result"
    }
   ],
   "source": [
    "dict1 = {\"name\":\"siva\",\"course\":\"python\",\"address\":\"hyd\"}\n",
    "dict1[\"course\"]"
   ]
  },
  {
   "cell_type": "code",
   "execution_count": 136,
   "metadata": {},
   "outputs": [
    {
     "name": "stdout",
     "output_type": "stream",
     "text": [
      "{'name': 'siva', 'course': 'c programming', 'address': 'hyd'}\n"
     ]
    }
   ],
   "source": [
    "#replace values\n",
    "dict1[\"course\"] = \"c programming\"\n",
    "print(dict1)"
   ]
  },
  {
   "cell_type": "code",
   "execution_count": 137,
   "metadata": {},
   "outputs": [
    {
     "name": "stdout",
     "output_type": "stream",
     "text": [
      "{'name': 'siva', 'course': 'c programming', 'address': 'hyd', 'college': 'GITAM'}\n"
     ]
    }
   ],
   "source": [
    "#adding entry\n",
    "dict1[\"college\"] = \"GITAM\"\n",
    "print(dict1)"
   ]
  },
  {
   "cell_type": "code",
   "execution_count": null,
   "metadata": {},
   "outputs": [],
   "source": [
    "#removing entry\n",
    "del dict1[\"address\"]\n",
    "print(dict1)"
   ]
  },
  {
   "cell_type": "code",
   "execution_count": 139,
   "metadata": {},
   "outputs": [
    {
     "data": {
      "text/plain": [
       "'C:\\\\Users\\\\SIVA REDDY\\\\Downloads'"
      ]
     },
     "execution_count": 139,
     "metadata": {},
     "output_type": "execute_result"
    }
   ],
   "source": [
    "pwd\n"
   ]
  },
  {
   "cell_type": "code",
   "execution_count": null,
   "metadata": {},
   "outputs": [],
   "source": []
  }
 ],
 "metadata": {
  "kernelspec": {
   "display_name": "Python 3",
   "language": "python",
   "name": "python3"
  },
  "language_info": {
   "codemirror_mode": {
    "name": "ipython",
    "version": 3
   },
   "file_extension": ".py",
   "mimetype": "text/x-python",
   "name": "python",
   "nbconvert_exporter": "python",
   "pygments_lexer": "ipython3",
   "version": "3.7.4"
  }
 },
 "nbformat": 4,
 "nbformat_minor": 2
}
