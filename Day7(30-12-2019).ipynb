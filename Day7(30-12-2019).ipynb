{
 "cells": [
  {
   "cell_type": "code",
   "execution_count": 1,
   "metadata": {},
   "outputs": [],
   "source": [
    "s = input(\" enter a string\")\n",
    "vowel = ['a','e','i','o','u']\n",
    "for i in s:\n",
    "    if i in vowel:\n",
    "        print(chr(ord(i)+1),end=\"\")\n",
    "    elif(ord(i)>65 and ord())"
   ]
  },
  {
   "cell_type": "code",
   "execution_count": 12,
   "metadata": {},
   "outputs": [
    {
     "name": "stdout",
     "output_type": "stream",
     "text": [
      "9\n"
     ]
    }
   ],
   "source": [
    "list1 = [1,2,2,5,2,1,3,8,4]\n",
    "s=0\n",
    "for i in range(len(list1)):\n",
    "    if i<list1.index(5) or i>list1.index(8):\n",
    "        s+=list1[i]\n",
    "print(s)"
   ]
  },
  {
   "cell_type": "markdown",
   "metadata": {},
   "source": [
    "### File handling:\n",
    "1. creating a file\n",
    "2. adding content\n",
    "3. saving\n",
    "4. reading\n",
    "modes -->read(r),write(w),append(a)"
   ]
  },
  {
   "cell_type": "code",
   "execution_count": 19,
   "metadata": {},
   "outputs": [],
   "source": [
    "f = open(\"data.txt\",\"w\")\n",
    "f.write(\"hello everyone\")\n",
    "f.close()"
   ]
  },
  {
   "cell_type": "code",
   "execution_count": 22,
   "metadata": {},
   "outputs": [
    {
     "name": "stdout",
     "output_type": "stream",
     "text": [
      "14\n",
      "2\n"
     ]
    }
   ],
   "source": [
    "f1 = open(\"data.txt\",\"r\")\n",
    "str1 = f1.read()\n",
    "print(len(str1))\n",
    "print(len(str1.split()))"
   ]
  },
  {
   "cell_type": "code",
   "execution_count": 24,
   "metadata": {},
   "outputs": [],
   "source": [
    "f = open(\"data.txt\",\"a\")\n",
    "f.write(\"good morning\")\n",
    "f.close()"
   ]
  },
  {
   "cell_type": "code",
   "execution_count": 26,
   "metadata": {},
   "outputs": [
    {
     "name": "stdout",
     "output_type": "stream",
     "text": [
      "hello everyonegood morning\n"
     ]
    }
   ],
   "source": [
    "f1 = open(\"data.txt\",\"r\")\n",
    "str1 = f1.read()\n",
    "print(str1)"
   ]
  },
  {
   "cell_type": "markdown",
   "metadata": {},
   "source": [
    "1. create a folder\n",
    "2. open the folder and create random no. of files with unique name\n",
    "3. add random content into the file\n",
    "4. file size should be 512 bytes"
   ]
  },
  {
   "cell_type": "code",
   "execution_count": null,
   "metadata": {},
   "outputs": [],
   "source": []
  }
 ],
 "metadata": {
  "kernelspec": {
   "display_name": "Python 3",
   "language": "python",
   "name": "python3"
  },
  "language_info": {
   "codemirror_mode": {
    "name": "ipython",
    "version": 3
   },
   "file_extension": ".py",
   "mimetype": "text/x-python",
   "name": "python",
   "nbconvert_exporter": "python",
   "pygments_lexer": "ipython3",
   "version": "3.7.4"
  }
 },
 "nbformat": 4,
 "nbformat_minor": 2
}
